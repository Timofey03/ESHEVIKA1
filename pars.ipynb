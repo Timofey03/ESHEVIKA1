{
 "cells": [
  {
   "cell_type": "markdown",
   "metadata": {},
   "source": [
    "Клонируем библиотеку "
   ]
  },
  {
   "cell_type": "code",
   "execution_count": null,
   "metadata": {
    "vscode": {
     "languageId": "plaintext"
    }
   },
   "outputs": [],
   "source": [
    "!git clone https://gitlab.com/airatb1508/domclick-parser.git\n"
   ]
  },
  {
   "cell_type": "markdown",
   "metadata": {},
   "source": [
    "Устанавливаем биботеки"
   ]
  },
  {
   "cell_type": "code",
   "execution_count": null,
   "metadata": {
    "vscode": {
     "languageId": "plaintext"
    }
   },
   "outputs": [],
   "source": [
    "!pip install requests\n",
    "!pip install pandas"
   ]
  },
  {
   "cell_type": "markdown",
   "metadata": {},
   "source": [
    "Импортируем биботеки"
   ]
  },
  {
   "cell_type": "code",
   "execution_count": null,
   "metadata": {
    "vscode": {
     "languageId": "plaintext"
    }
   },
   "outputs": [],
   "source": [
    "import json\n",
    "import requests\n",
    "import hashlib\n",
    "import pandas as pd\n",
    "from datetime import datetime"
   ]
  },
  {
   "cell_type": "markdown",
   "metadata": {},
   "source": [
    "Добавляем эмуляцию активности с другого устройства чтобы не забанило"
   ]
  },
  {
   "cell_type": "code",
   "execution_count": null,
   "metadata": {
    "vscode": {
     "languageId": "plaintext"
    }
   },
   "outputs": [],
   "source": [
    "class DomClickApi:\n",
    "    def __init__(self):\n",
    "        self.session = requests.Session()\n",
    "        self.session.headers.update({\"X-Service\": \"true\",\n",
    "                                     \"Connection\": \"Keep-Alive\",\n",
    "                                     \"User-Agent\": \"Android; 12; Google; google_pixel_5; 8.72.0; 8720006; ; NONAUTH\"\n",
    "                                     })\n",
    "\n",
    "        # Инициализация (получение cookies)\n",
    "        self.get(\"https://api.domclick.ru/core/no-auth-zone/api/v1/ensure_session\")\n",
    "        self.get(\"https://ipoteka.domclick.ru/mobile/v1/feature_toggles\")\n",
    "\n",
    "    def get(self, url, **kwargs):\n",
    "        self.__update_headers(url, **kwargs)\n",
    "        result = self.session.get(url, **kwargs)\n",
    "        print(self.session.cookies.get_dict())\n",
    "        return result\n",
    "\n",
    "    def __update_headers(self, url, **kwargs):\n",
    "        url = self.__get_prepared_url(url, **kwargs)\n",
    "        sault = \"ad65f331b02b90d868cbdd660d82aba0\"\n",
    "        timestamp = str(int(datetime.now().timestamp()))\n",
    "        encoded = (sault + url + timestamp).encode(\"UTF-8\")\n",
    "        h = hashlib.md5(encoded).hexdigest()\n",
    "        self.session.headers.update({\"Timestamp\": timestamp,\n",
    "                                     \"Hash\": \"v1:\" + h,\n",
    "                                     })\n",
    "\n",
    "    def __get_prepared_url(self, url, **kwargs):\n",
    "        p = requests.models.PreparedRequest()\n",
    "        p.prepare(method=\"GET\", url=url, **kwargs)\n",
    "        return p.url\n",
    "\n",
    "\n",
    "def pprint_json(json_str):\n",
    "    try:\n",
    "        json_object = json.loads(json_str)\n",
    "        json_formatted_str = json.dumps(json_object, indent=2, ensure_ascii=False).encode('utf8')\n",
    "        print(json_formatted_str.decode())\n",
    "    except:\n",
    "        print(json_str)\n"
   ]
  },
  {
   "cell_type": "markdown",
   "metadata": {},
   "source": [
    "Добавляем ссылки откуда будем парсить"
   ]
  },
  {
   "cell_type": "code",
   "execution_count": null,
   "metadata": {
    "vscode": {
     "languageId": "plaintext"
    }
   },
   "outputs": [],
   "source": [
    "offers_url = 'https://offers-service.domclick.ru/research/v5/offers/'\n",
    "count_url = 'https://offers-service.domclick.ru/research/v5/offers/count/'\n",
    "\n",
    "dca = DomClickApi()"
   ]
  },
  {
   "cell_type": "markdown",
   "metadata": {},
   "source": [
    "Настройка собираемой информации, размера собираемой информации\n",
    "Добавление цикла, который отсеивает ошибки в данных и слишком большие объявления (при отсутсвии данные будут слишком большие, таблица не сможет их вписать)"
   ]
  },
  {
   "cell_type": "code",
   "execution_count": null,
   "metadata": {
    "vscode": {
     "languageId": "plaintext"
    }
   },
   "outputs": [],
   "source": [
    "res = dca.get(count_url, params={\n",
    "    \"address\": \"1d1463ae-c80f-4d19-9331-a1b68a85b553\",  # UUID региона\n",
    "    \"deal_type\": \"sale\",  # Тип сделки: Купить\n",
    "    \"category\": \"living\",  # Категория: Жилье\n",
    "    \"offer_type\": [\"flat\", \"layout\"],  # Тип недвижимости: квартира (вторичка/новостройка)\n",
    "    \"rooms\": [\"1\", \"2\", \"3\", \"4\"],  # Кол-во комнат: 1, 2, 3, 4\n",
    "    \"area__gte\": 1,  # Площадь от 1 кв.м\n",
    "    \"floor__gte\": 1,  # Этаж от 1\n",
    "    \"sort\": \"qi\",  # Сортировка по рекомендуемым\n",
    "    \"sort_dir\": \"desc\",  # По убыванию\n",
    "    \"offset\": 0,\n",
    "    \"limit\": 30  # Лимит выборки\n",
    "})\n",
    "print(\"RES:\", res)\n",
    "print(res.text)\n",
    "pprint_json(res.text)\n",
    "\n",
    "count_obj = json.loads(res.text)\n",
    "total = count_obj[\"pagination\"][\"total\"]\n",
    "\n",
    "# Инициализация списка для сохранения данных предложений\n",
    "offers_list = []\n",
    "offset = 0\n",
    "max_offset = 2000  # Установлен лимит для offset\n",
    "\n",
    "while offset < total:\n",
    "    try:\n",
    "        if offset > max_offset:\n",
    "            print(f\"Offset {offset} превышает допустимый предел. Пропуск...\")\n",
    "            offset += 20\n",
    "            continue\n",
    "\n",
    "        res = dca.get(offers_url, params={\n",
    "            \"address\": \"1d1463ae-c80f-4d19-9331-a1b68a85b553\",\n",
    "            \"deal_type\": \"sale\",\n",
    "            \"category\": \"living\",\n",
    "            \"offer_type\": [\"flat\", \"layout\"],\n",
    "            \"rooms\": [\"1\", \"2\", \"3\", \"4\"],\n",
    "            \"area__gte\": 1,\n",
    "            \"floor__gte\": 1,\n",
    "            \"sort\": \"qi\",\n",
    "            \"sort_dir\": \"desc\",\n",
    "            \"offset\": offset,\n",
    "            \"limit\": 20,  # Лимит уменьшен\n",
    "        })\n",
    "        print(\"RES:\", res)\n",
    "        pprint_json(res.text)\n",
    "\n",
    "        offers_obj = json.loads(res.text)\n",
    "\n",
    "        # Пропускаем объявления, если ключи 'result' или 'items' отсутствуют\n",
    "        if 'result' not in offers_obj or 'items' not in offers_obj['result']:\n",
    "            print(f\"Ключ 'items' или 'result' отсутствует в ответе: {offers_obj}\")\n",
    "            offset += 20\n",
    "            continue\n",
    "\n",
    "        offers_list.extend(offers_obj['result']['items'])\n",
    "        total = offers_obj[\"pagination\"][\"total\"]\n",
    "        print(f\"{offset}/{total}\")\n",
    "        offset += 20  # Увеличиваем offset для следующей страницы\n",
    "\n",
    "    except Exception as e:\n",
    "        print(f\"Ошибка при обработке запроса: {e}\")\n",
    "        offset += 20  # Пропускаем текущий запрос и продолжаем"
   ]
  },
  {
   "cell_type": "markdown",
   "metadata": {},
   "source": [
    "Запись данных в таблицу"
   ]
  },
  {
   "cell_type": "code",
   "execution_count": null,
   "metadata": {
    "vscode": {
     "languageId": "plaintext"
    }
   },
   "outputs": [],
   "source": [
    "# Преобразование списка предложений в DataFrame\n",
    "if offers_list:\n",
    "    exel_export = pd.DataFrame(offers_list)\n",
    "\n",
    "    # Определяем нужные колонки (проверьте, что все ключи существуют в данных предложений)\n",
    "    columns = ['renovation', 'placement_type', 'has_big_check', 'offer_type',\n",
    "               'discount_status', 'developer', 'complex', 'trade_in', 'published_dt',\n",
    "               'layout_id', 'min_rate', 'status', 'photos', 'chat_available',\n",
    "               'payment_order_id', 'id', 'object_info', 'backwash', 'source',\n",
    "               'address', 'offers_count', 'slug', 'is_auction', 'house', 'description',\n",
    "               'price_info', 'deal_type', 'last_price_history_state', 'ipoteka_rate',\n",
    "               'monthly_payment', 'legal_options', 'seo_info', 'has_advance_payment',\n",
    "               'updated_dt', 'seo', 'pessimization', 'duplicates_offer_count',\n",
    "               'is_placement_paid', 'seller', 'assignment_sale', 'tariff_options',\n",
    "               'category', 'online_show', 'is_exclusive', 'flat_complex',\n",
    "               'rooms_offered', 'profit_badge', 'land', 'video']\n",
    "\n",
    "    available_columns = [col for col in columns if col in exel_export.columns]\n",
    "\n",
    "    if not available_columns:\n",
    "        print(\"Нет совпадающих колонок для экспорта в DataFrame.\")\n",
    "    else:\n",
    "        selected_columns = exel_export[available_columns]\n",
    "        selected_columns.to_csv('Domparsing.csv', mode='a', header=False, index=False)\n",
    "else:\n",
    "    print(\"Нет данных для экспорта.\")"
   ]
  }
 ],
 "metadata": {
  "language_info": {
   "name": "python"
  }
 },
 "nbformat": 4,
 "nbformat_minor": 2
}
